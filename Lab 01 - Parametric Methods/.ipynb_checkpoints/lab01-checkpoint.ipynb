{
 "cells": [
  {
   "cell_type": "code",
   "execution_count": 1,
   "metadata": {
    "vscode": {
     "languageId": "plaintext"
    }
   },
   "outputs": [],
   "source": [
    "import math\n",
    "import numpy as np\n",
    "import scipy.stats as stats\n",
    "import matplotlib.pyplot as plt"
   ]
  },
  {
   "cell_type": "markdown",
   "metadata": {},
   "source": [
    "### Setting the distribution that we will generate the data from"
   ]
  },
  {
   "cell_type": "code",
   "execution_count": 2,
   "metadata": {},
   "outputs": [],
   "source": [
    "#the seed for reproducability\n",
    "np.random.seed(42)\n",
    "#means\n",
    "class_means = np.array([-3.0, -1.0, 3.0])\n",
    "#stds\n",
    "class_deviations = np.array([1.2, 1.0, 1.3])\n",
    "#sample sizes\n",
    "class_sizes = np.array([40, 30, 50])\n",
    "\n"
   ]
  },
  {
   "cell_type": "markdown",
   "metadata": {},
   "source": [
    "### Generating the data from the distribution"
   ]
  },
  {
   "cell_type": "code",
   "execution_count": 3,
   "metadata": {},
   "outputs": [],
   "source": [
    "points1 = np.random.normal(loc = class_means[0], scale = class_deviations[0], size = class_sizes[0])\n",
    "points2 = np.random.normal(loc = class_means[1], scale = class_deviations[1], size = class_sizes[1])\n",
    "points3 = np.random.normal(loc = class_means[2], scale = class_deviations[2], size = class_sizes[2])\n",
    "\n",
    "\n",
    "#so we will have two arrays, holding the x and y values, can be accessed via index, however do note we are working with one d data.\n",
    "\n",
    "points = np.concatenate((points1, points2, points3))\n",
    "y = np.concatenate((np.repeat(1, class_sizes[0]),\n",
    "                    np.repeat(2, class_sizes[1]),\n",
    "                    np.repeat(3, class_sizes[2])))"
   ]
  },
  {
   "cell_type": "markdown",
   "metadata": {},
   "source": [
    "## Export data to a csv"
   ]
  },
  {
   "cell_type": "code",
   "execution_count": 6,
   "metadata": {},
   "outputs": [],
   "source": [
    "np.savetxt(fname = \"lab01_dataset.csv\",\n",
    "           X = np.stack((points, y), axis = 1),\n",
    "           fmt = \"%f, %d\")"
   ]
  },
  {
   "cell_type": "markdown",
   "metadata": {},
   "source": [
    "## Plotting Data"
   ]
  },
  {
   "cell_type": "code",
   "execution_count": 22,
   "metadata": {},
   "outputs": [
    {
     "name": "stdout",
     "output_type": "stream",
     "text": [
      "[-7.   -6.98 -6.96 -6.94 -6.92 -6.9  -6.88 -6.86 -6.84 -6.82 -6.8  -6.78\n",
      " -6.76 -6.74 -6.72 -6.7  -6.68 -6.66 -6.64 -6.62 -6.6  -6.58 -6.56 -6.54\n",
      " -6.52 -6.5  -6.48 -6.46 -6.44 -6.42 -6.4  -6.38 -6.36 -6.34 -6.32 -6.3\n",
      " -6.28 -6.26 -6.24 -6.22 -6.2  -6.18 -6.16 -6.14 -6.12 -6.1  -6.08 -6.06\n",
      " -6.04 -6.02 -6.   -5.98 -5.96 -5.94 -5.92 -5.9  -5.88 -5.86 -5.84 -5.82\n",
      " -5.8  -5.78 -5.76 -5.74 -5.72 -5.7  -5.68 -5.66 -5.64 -5.62 -5.6  -5.58\n",
      " -5.56 -5.54 -5.52 -5.5  -5.48 -5.46 -5.44 -5.42 -5.4  -5.38 -5.36 -5.34\n",
      " -5.32 -5.3  -5.28 -5.26 -5.24 -5.22 -5.2  -5.18 -5.16 -5.14 -5.12 -5.1\n",
      " -5.08 -5.06 -5.04 -5.02 -5.   -4.98 -4.96 -4.94 -4.92 -4.9  -4.88 -4.86\n",
      " -4.84 -4.82 -4.8  -4.78 -4.76 -4.74 -4.72 -4.7  -4.68 -4.66 -4.64 -4.62\n",
      " -4.6  -4.58 -4.56 -4.54 -4.52 -4.5  -4.48 -4.46 -4.44 -4.42 -4.4  -4.38\n",
      " -4.36 -4.34 -4.32 -4.3  -4.28 -4.26 -4.24 -4.22 -4.2  -4.18 -4.16 -4.14\n",
      " -4.12 -4.1  -4.08 -4.06 -4.04 -4.02 -4.   -3.98 -3.96 -3.94 -3.92 -3.9\n",
      " -3.88 -3.86 -3.84 -3.82 -3.8  -3.78 -3.76 -3.74 -3.72 -3.7  -3.68 -3.66\n",
      " -3.64 -3.62 -3.6  -3.58 -3.56 -3.54 -3.52 -3.5  -3.48 -3.46 -3.44 -3.42\n",
      " -3.4  -3.38 -3.36 -3.34 -3.32 -3.3  -3.28 -3.26 -3.24 -3.22 -3.2  -3.18\n",
      " -3.16 -3.14 -3.12 -3.1  -3.08 -3.06 -3.04 -3.02 -3.   -2.98 -2.96 -2.94\n",
      " -2.92 -2.9  -2.88 -2.86 -2.84 -2.82 -2.8  -2.78 -2.76 -2.74 -2.72 -2.7\n",
      " -2.68 -2.66 -2.64 -2.62 -2.6  -2.58 -2.56 -2.54 -2.52 -2.5  -2.48 -2.46\n",
      " -2.44 -2.42 -2.4  -2.38 -2.36 -2.34 -2.32 -2.3  -2.28 -2.26 -2.24 -2.22\n",
      " -2.2  -2.18 -2.16 -2.14 -2.12 -2.1  -2.08 -2.06 -2.04 -2.02 -2.   -1.98\n",
      " -1.96 -1.94 -1.92 -1.9  -1.88 -1.86 -1.84 -1.82 -1.8  -1.78 -1.76 -1.74\n",
      " -1.72 -1.7  -1.68 -1.66 -1.64 -1.62 -1.6  -1.58 -1.56 -1.54 -1.52 -1.5\n",
      " -1.48 -1.46 -1.44 -1.42 -1.4  -1.38 -1.36 -1.34 -1.32 -1.3  -1.28 -1.26\n",
      " -1.24 -1.22 -1.2  -1.18 -1.16 -1.14 -1.12 -1.1  -1.08 -1.06 -1.04 -1.02\n",
      " -1.   -0.98 -0.96 -0.94 -0.92 -0.9  -0.88 -0.86 -0.84 -0.82 -0.8  -0.78\n",
      " -0.76 -0.74 -0.72 -0.7  -0.68 -0.66 -0.64 -0.62 -0.6  -0.58 -0.56 -0.54\n",
      " -0.52 -0.5  -0.48 -0.46 -0.44 -0.42 -0.4  -0.38 -0.36 -0.34 -0.32 -0.3\n",
      " -0.28 -0.26 -0.24 -0.22 -0.2  -0.18 -0.16 -0.14 -0.12 -0.1  -0.08 -0.06\n",
      " -0.04 -0.02  0.    0.02  0.04  0.06  0.08  0.1   0.12  0.14  0.16  0.18\n",
      "  0.2   0.22  0.24  0.26  0.28  0.3   0.32  0.34  0.36  0.38  0.4   0.42\n",
      "  0.44  0.46  0.48  0.5   0.52  0.54  0.56  0.58  0.6   0.62  0.64  0.66\n",
      "  0.68  0.7   0.72  0.74  0.76  0.78  0.8   0.82  0.84  0.86  0.88  0.9\n",
      "  0.92  0.94  0.96  0.98  1.    1.02  1.04  1.06  1.08  1.1   1.12  1.14\n",
      "  1.16  1.18  1.2   1.22  1.24  1.26  1.28  1.3   1.32  1.34  1.36  1.38\n",
      "  1.4   1.42  1.44  1.46  1.48  1.5   1.52  1.54  1.56  1.58  1.6   1.62\n",
      "  1.64  1.66  1.68  1.7   1.72  1.74  1.76  1.78  1.8   1.82  1.84  1.86\n",
      "  1.88  1.9   1.92  1.94  1.96  1.98  2.    2.02  2.04  2.06  2.08  2.1\n",
      "  2.12  2.14  2.16  2.18  2.2   2.22  2.24  2.26  2.28  2.3   2.32  2.34\n",
      "  2.36  2.38  2.4   2.42  2.44  2.46  2.48  2.5   2.52  2.54  2.56  2.58\n",
      "  2.6   2.62  2.64  2.66  2.68  2.7   2.72  2.74  2.76  2.78  2.8   2.82\n",
      "  2.84  2.86  2.88  2.9   2.92  2.94  2.96  2.98  3.    3.02  3.04  3.06\n",
      "  3.08  3.1   3.12  3.14  3.16  3.18  3.2   3.22  3.24  3.26  3.28  3.3\n",
      "  3.32  3.34  3.36  3.38  3.4   3.42  3.44  3.46  3.48  3.5   3.52  3.54\n",
      "  3.56  3.58  3.6   3.62  3.64  3.66  3.68  3.7   3.72  3.74  3.76  3.78\n",
      "  3.8   3.82  3.84  3.86  3.88  3.9   3.92  3.94  3.96  3.98  4.    4.02\n",
      "  4.04  4.06  4.08  4.1   4.12  4.14  4.16  4.18  4.2   4.22  4.24  4.26\n",
      "  4.28  4.3   4.32  4.34  4.36  4.38  4.4   4.42  4.44  4.46  4.48  4.5\n",
      "  4.52  4.54  4.56  4.58  4.6   4.62  4.64  4.66  4.68  4.7   4.72  4.74\n",
      "  4.76  4.78  4.8   4.82  4.84  4.86  4.88  4.9   4.92  4.94  4.96  4.98\n",
      "  5.    5.02  5.04  5.06  5.08  5.1   5.12  5.14  5.16  5.18  5.2   5.22\n",
      "  5.24  5.26  5.28  5.3   5.32  5.34  5.36  5.38  5.4   5.42  5.44  5.46\n",
      "  5.48  5.5   5.52  5.54  5.56  5.58  5.6   5.62  5.64  5.66  5.68  5.7\n",
      "  5.72  5.74  5.76  5.78  5.8   5.82  5.84  5.86  5.88  5.9   5.92  5.94\n",
      "  5.96  5.98  6.    6.02  6.04  6.06  6.08  6.1   6.12  6.14  6.16  6.18\n",
      "  6.2   6.22  6.24  6.26  6.28  6.3   6.32  6.34  6.36  6.38  6.4   6.42\n",
      "  6.44  6.46  6.48  6.5   6.52  6.54  6.56  6.58  6.6   6.62  6.64  6.66\n",
      "  6.68  6.7   6.72  6.74  6.76  6.78  6.8   6.82  6.84  6.86  6.88  6.9\n",
      "  6.92  6.94  6.96  6.98  7.  ]\n"
     ]
    },
    {
     "data": {
      "image/png": "[encoded data removed]",
      "text/plain": [
       "<Figure size 800x600 with 1 Axes>"
      ]
     },
     "metadata": {},
     "output_type": "display_data"
    }
   ],
   "source": [
    "\n",
    "#to plot we get values from the distribution, as many as we want and them plot them with interpolation\n",
    "data_interval = np.linspace(start = -7, stop = +7, num = 701)\n",
    "density1 = stats.norm.pdf(data_interval, loc = class_means[0], scale = class_deviations[0])\n",
    "density2 = stats.norm.pdf(data_interval, loc = class_means[1], scale = class_deviations[1])\n",
    "density3 = stats.norm.pdf(data_interval, loc = class_means[2], scale = class_deviations[2])\n",
    "\n",
    "plt.figure(figsize = (8,6))\n",
    "plt.plot(points1, np.repeat(-0.01, class_sizes[0]), \"r|\", markersize = 5)\n",
    "plt.plot(data_interval, density1, \"r\", label = \"true density for class 1\")\n",
    "plt.plot(points2, np.repeat(-0.02, class_sizes[1]), \"g|\", markersize = 5)\n",
    "plt.plot(points3, np.repeat(-0.03, class_sizes[2]), \"b|\", markersize = 5)\n",
    "\n",
    "plt.show()"
   ]
  }
 ],
 "metadata": {
  "kernelspec": {
   "display_name": "Python 3 (ipykernel)",
   "language": "python",
   "name": "python3"
  },
  "language_info": {
   "codemirror_mode": {
    "name": "ipython",
    "version": 3
   },
   "file_extension": ".py",
   "mimetype": "text/x-python",
   "name": "python",
   "nbconvert_exporter": "python",
   "pygments_lexer": "ipython3",
   "version": "3.13.2"
  }
 },
 "nbformat": 4,
 "nbformat_minor": 4
}
