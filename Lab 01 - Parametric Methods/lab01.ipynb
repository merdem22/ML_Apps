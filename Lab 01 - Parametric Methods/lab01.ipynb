{
 "cells": [
  {
   "cell_type": "code",
   "execution_count": 1,
   "metadata": {},
   "outputs": [],
   "source": [
    "import math\n",
    "import numpy as np\n",
    "import scipy.stats as stats\n",
    "import matplotlib.pyplot as plt"
   ]
  },
  {
   "cell_type": "code",
   "execution_count": 2,
   "metadata": {},
   "outputs": [],
   "source": [
    "np.random.seed(421)\n",
    "#mean parameters\n",
    "class_means = np.array([-3.0, -1,0, 3.0])\n",
    "#deviatons\n",
    "class_deviations = np.array([1.2, 1.0, 1.3])\n",
    "#counts\n",
    "class_sizes = np.array([40, 30, 50])"
   ]
  },
  {
   "cell_type": "code",
   "execution_count": 6,
   "metadata": {},
   "outputs": [],
   "source": [
    "#since we are dealing with only three classes i won't use a loop.\n",
    "points1 = np.random.normal(loc=class_means[0], scale=class_deviations[0], size=class_sizes[0])\n",
    "points2 = np.random.normal(loc=class_means[1], scale=class_deviations[1], size=class_sizes[1])\n",
    "points3 = np.random.normal(loc=class_means[2], scale=class_deviations[2], size=class_sizes[2])\n",
    "points = np.concatenate((points1, points2, points3))\n",
    "\n",
    "#generate the corresponding labels which will be paired with the data.\n",
    "y = np.concatenate((np.repeat(1, class_sizes[0]), np.repeat(2, class_sizes[1]), np.repeat(3, class_sizes[2])))\n"
   ]
  },
  {
   "cell_type": "code",
   "execution_count": 7,
   "metadata": {},
   "outputs": [],
   "source": [
    "#write data to a file.\n",
    "np.savetxt(fname = \"lab01_dataset.csv\", X = np.stack((points, y), axis = 1), fmt=\"%f,%d\")"
   ]
  },
  {
   "cell_type": "code",
   "execution_count": null,
   "metadata": {},
   "outputs": [],
   "source": [
    "#plotting data\n",
    "data_interval = np.linspace(start=-7, stop = +7, num=701)\n",
    "density1= stats.norm.pdf(data_interval, loc=class_means[0]. scale=class_deviations[0])\n",
    "density2= stats.norm.pdf(data_interval, loc=class_means[1], scale=class_deviations[1])\n",
    "density3= stats.norm.pdf(data_interval, loc=class_means[2], scale=class_deviations[2])\n",
    "\n",
    "plt.figure(figsize = (8,6))\n",
    "plt.plot(points1, np.repeat(-0.01, class_sizes[0]))"
   ]
  }
 ],
 "metadata": {
  "kernelspec": {
   "display_name": "base",
   "language": "python",
   "name": "python3"
  },
  "language_info": {
   "codemirror_mode": {
    "name": "ipython",
    "version": 3
   },
   "file_extension": ".py",
   "mimetype": "text/x-python",
   "name": "python",
   "nbconvert_exporter": "python",
   "pygments_lexer": "ipython3",
   "version": "3.12.4"
  }
 },
 "nbformat": 4,
 "nbformat_minor": 2
}
